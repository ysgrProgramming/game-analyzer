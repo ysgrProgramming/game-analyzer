{
 "cells": [
  {
   "cell_type": "code",
   "execution_count": 1,
   "metadata": {},
   "outputs": [],
   "source": [
    "import numpy as np\n",
    "from analyzer import Analyzer\n",
    "\n",
    "words = [\"apple\", \"elephant\", \"tomato\", \"onion\", \"nagoya\", \"nation\", \"tiny\", \"education\", \"at\", \"tickle\"]"
   ]
  },
  {
   "cell_type": "code",
   "execution_count": 2,
   "metadata": {},
   "outputs": [],
   "source": [
    "init_mat = np.array([0])\n",
    "max_mat = np.array([len(words)+1])\n",
    "\n",
    "def next_func(mat):\n",
    "    if mat[0] == 0:\n",
    "        for i in range(len(words)):\n",
    "            yield np.array([i+1])\n",
    "    else:\n",
    "        now = words[mat[0]-1]\n",
    "        for i, word in enumerate(words):\n",
    "            if now[-1] == word[0]:\n",
    "                yield np.array([i+1])"
   ]
  },
  {
   "cell_type": "code",
   "execution_count": 3,
   "metadata": {},
   "outputs": [
    {
     "name": "stdout",
     "output_type": "stream",
     "text": [
      "\n",
      "--- start alpha beta analyze ---\n",
      "\n",
      "\n",
      "-- alpha beta analyze finished --\n",
      "\n",
      "total detected states = 11\n",
      "total elapsed time = 0.000\n",
      "next, apply retrograde_analyze to the states that could not be evaluated\n",
      "\n",
      "--- start retrograde analyze ---\n",
      "\n",
      "\n",
      "-- retrograde analyze finished --\n",
      "\n",
      "total elapsed time = 0.000\n",
      "analyze finished, You can use 'mat_to_status' or 'list_example' etc. to get the results of analysis.\n",
      "[1, 0, 1, -2, -2, 0, 0, -1, 0, 1, 0]\n",
      "[1, 0, 1, 0, 0, 0, 0, 0, 0, 1, 0]\n"
     ]
    }
   ],
   "source": [
    "an = Analyzer(init_mat, max_mat, next_func, default=-1)\n",
    "an.alpha_beta_analyze()\n",
    "an.retrograde_analyze()\n",
    "print(an.eval_list)\n",
    "print(an.step_list)"
   ]
  },
  {
   "cell_type": "code",
   "execution_count": 4,
   "metadata": {},
   "outputs": [],
   "source": [
    "init_mat = np.array([0, len(words)])\n",
    "max_mat = np.array([1<<len(words), len(words)+1])\n",
    "\n",
    "def next_func(mat):\n",
    "    if mat[1] == len(words):\n",
    "        for i in range(len(words)):\n",
    "            yield np.array([1<<i, i])\n",
    "    else:\n",
    "        now = words[mat[1]]\n",
    "        for i, word in enumerate(words):\n",
    "            if mat[0] & (1<<i): continue\n",
    "            if now[-1] == word[0]:\n",
    "                yield np.array([mat[0]+(1<<i), i])"
   ]
  },
  {
   "cell_type": "code",
   "execution_count": 5,
   "metadata": {},
   "outputs": [
    {
     "name": "stdout",
     "output_type": "stream",
     "text": [
      "\n",
      "--- start alpha beta analyze ---\n",
      "\n",
      "\n",
      "-- alpha beta analyze finished --\n",
      "\n",
      "total detected states = 291\n",
      "total elapsed time = 0.005\n",
      "next, apply retrograde_analyze to the states that could not be evaluated\n",
      "\n",
      "--- start retrograde analyze ---\n",
      "\n",
      "\n",
      "-- retrograde analyze finished --\n",
      "\n",
      "total elapsed time = 0.000\n",
      "analyze finished, You can use 'mat_to_status' or 'list_example' etc. to get the results of analysis.\n",
      "[1, -1, 1, 1, -1, 1, 1, -1, 1, 1, -1, 1, 1, 1, -1, 1, -1, 1, 1, -1, -1, 1, 1, -1, -1, -1, 1, -1, -1, 1, -1, 1, -1, -1, 1, -1, 1, -1, -1, 1, 1, -1, 1, 1, -1, -1, -1, 1, -1, 1, 1, -1, -1, 1, 1, 1, -1, 1, -1, 1, 1, -1, -1, -1, 1, -1, -1, 1, -1, 1, -1, -1, 1, 1, -1, 1, -1, -1, 1, -1, 1, 1, -1, 1, 1, -1, -1, 1, -1, 1, 1, -1, -1, -1, 1, -1, 1, -1, 1, 1, -1, -1, 1, 1, -1, -1, -1, 1, 1, -1, -1, -1, -1, 1, -1, -1, -1, 1, -1, -1, 1, -1, 1, -1, 1, -1, -1, -1, 1, -1, -1, 1, 1, 1, -1, 1, 1, -1, 1, -1, -1, -1, 1, -1, 1, -1, 1, -1, -1, -1, 1, -1, -1, -1, 1, 1, -1, -1, -1, 1, -1, 1, -1, 1, 1, -1, -1, -1, -1, 1, -1, 1, -1, 1, 1, -1, 1, 1, -1, -1, 1, 1, -1, -1, -1, 1, -1, -1, -1, 1, -1, -1, 1, -1, -1, -1, 1, 1, -1, -1, -1, 1, 1, -1, -1, -1, -1, 1, -1, -1, 1, 1, -1, 1, 1, -1, 1, 1, -1, 1, -1, -1, 1, -1, 1, -1, -1, 1, 1, 1, 1, -1, -1, -1, 1, -1, -1, 1, 1, -1, 1, -1, 1, -1, 1, -1, 1, 1, -1, 1, 1, -1, 1, -1, -1, -1, 1, -1, -1, 1, 1, 1, 1, -1, 1, -1, 1, 1, -1, -1, -1, 1, -1, -1, -1, 1, -1, -1, -1, 1, -1, 1, -1, 1, 1, 1, -1, 1, -1, 1, 1]\n",
      "[1, 4, 1, 5, 4, 3, 3, 0, 5, 1, 6, 1, 5, 3, 4, 3, 2, 1, 1, 0, 0, 1, 1, 0, 0, 2, 1, 2, 0, 1, 0, 1, 2, 0, 1, 0, 5, 0, 4, 3, 3, 2, 1, 1, 0, 0, 2, 1, 0, 1, 5, 0, 6, 1, 5, 3, 4, 3, 2, 1, 1, 0, 0, 2, 1, 2, 0, 1, 0, 5, 0, 4, 3, 3, 2, 1, 0, 2, 1, 4, 3, 3, 2, 1, 1, 0, 0, 1, 2, 1, 1, 0, 0, 2, 3, 4, 3, 2, 1, 1, 0, 2, 1, 1, 0, 0, 0, 1, 1, 0, 0, 0, 2, 1, 2, 0, 2, 1, 2, 0, 1, 0, 1, 0, 1, 2, 0, 0, 1, 0, 2, 1, 1, 1, 0, 1, 1, 0, 1, 0, 0, 0, 1, 0, 1, 0, 1, 0, 0, 2, 1, 2, 0, 2, 1, 1, 0, 2, 0, 1, 0, 1, 0, 1, 1, 0, 2, 0, 2, 1, 0, 1, 0, 3, 3, 2, 1, 1, 0, 0, 1, 1, 0, 0, 0, 1, 0, 0, 0, 1, 0, 2, 1, 0, 0, 2, 1, 1, 0, 0, 0, 1, 1, 0, 0, 0, 2, 1, 0, 4, 3, 3, 2, 1, 1, 0, 1, 1, 0, 1, 0, 0, 1, 2, 1, 0, 2, 1, 1, 1, 1, 0, 0, 2, 5, 0, 4, 3, 1, 2, 1, 0, 1, 0, 1, 4, 3, 3, 2, 1, 1, 0, 1, 0, 0, 2, 1, 0, 2, 1, 1, 1, 3, 2, 3, 2, 1, 1, 0, 2, 0, 1, 2, 0, 2, 1, 4, 0, 4, 3, 2, 3, 2, 1, 1, 3, 2, 3, 2, 1, 1]\n"
     ]
    }
   ],
   "source": [
    "an1 = Analyzer(init_mat, max_mat, next_func, default=-1)\n",
    "an1.alpha_beta_analyze(rel_depth=100)\n",
    "an1.retrograde_analyze()\n",
    "print(an1.eval_list)\n",
    "print(an1.step_list)"
   ]
  },
  {
   "cell_type": "code",
   "execution_count": 6,
   "metadata": {},
   "outputs": [
    {
     "name": "stdout",
     "output_type": "stream",
     "text": [
      "[[0 1 2]\n",
      " [3 4 5]\n",
      " [6 7 8]]\n",
      "\n"
     ]
    }
   ],
   "source": [
    "max_mat = np.array([\n",
    "    [1, 2, 3],\n",
    "    [4, 5, 6],\n",
    "    [7, 8, 9]\n",
    "])\n",
    "init_mat = np.array([\n",
    "    [0, 1, 2],\n",
    "    [3, 4, 5],\n",
    "    [6, 7, 8]\n",
    "])\n",
    "\n",
    "an = Analyzer(init_mat, max_mat, next_func)\n",
    "\n",
    "for mat in an.sym_func(init_mat):\n",
    "    print(mat)\n",
    "    print()"
   ]
  }
 ],
 "metadata": {
  "kernelspec": {
   "display_name": "Python 3",
   "language": "python",
   "name": "python3"
  },
  "language_info": {
   "codemirror_mode": {
    "name": "ipython",
    "version": 3
   },
   "file_extension": ".py",
   "mimetype": "text/x-python",
   "name": "python",
   "nbconvert_exporter": "python",
   "pygments_lexer": "ipython3",
   "version": "3.10.11"
  },
  "orig_nbformat": 4
 },
 "nbformat": 4,
 "nbformat_minor": 2
}
