{
 "cells": [
  {
   "cell_type": "markdown",
   "metadata": {},
   "source": [
    "# 一般化された○×ゲーム"
   ]
  },
  {
   "cell_type": "markdown",
   "metadata": {},
   "source": [
    "## 問題定義"
   ]
  },
  {
   "cell_type": "code",
   "execution_count": 1,
   "metadata": {},
   "outputs": [],
   "source": [
    "import numpy as np\n",
    "from analyzer import Analyzer\n",
    "\n",
    "size = 5\n",
    "require = 4\n",
    "init_mat = np.zeros((size, size))\n",
    "max_mat = np.full((size, size), 2)\n",
    "\n",
    "def next_func(mat):\n",
    "    rev_mat = mat*2%3\n",
    "    for y in range(size):\n",
    "        for x in range(size):\n",
    "            if rev_mat[y][x] == 0:\n",
    "                next_mat = rev_mat.copy()\n",
    "                next_mat[y][x] = 2\n",
    "                yield next_mat\n",
    "\n",
    "def sym_func(mat):\n",
    "    for i in range(4):\n",
    "        flip_mat = mat.copy()\n",
    "        if i & 1: flip_mat = np.flip(flip_mat, axis=0)\n",
    "        if i & 2: flip_mat = np.flip(flip_mat, axis=1)\n",
    "        for j in range(4):\n",
    "            rot_mat = np.rot90(flip_mat, j)\n",
    "            yield rot_mat\n",
    "\n",
    "def end_func(mat):\n",
    "    dir_list = [(0, 1), (1, 0), (1, 1)]\n",
    "    for dx, dy in dir_list:\n",
    "        counter = np.zeros((size, size))\n",
    "        for i in range(require):\n",
    "            roll_mat = np.roll(mat, dx*i, axis=0)\n",
    "            roll_mat = np.roll(roll_mat, dy*i, axis=1)\n",
    "            counter[roll_mat == 2] += 1\n",
    "            if np.any(counter[:size-dx*(require-1),:size-dy*(require-1)] == require):\n",
    "                return -1\n",
    "\n",
    "an = Analyzer(init_mat, max_mat, next_func, sym_func, end_func, default=0)"
   ]
  },
  {
   "cell_type": "code",
   "execution_count": 2,
   "metadata": {},
   "outputs": [
    {
     "name": "stdout",
     "output_type": "stream",
     "text": [
      "\n",
      "--- start alpha beta analyze ---\n",
      "\n",
      "17.0s detected_states = 28455"
     ]
    },
    {
     "ename": "KeyboardInterrupt",
     "evalue": "",
     "output_type": "error",
     "traceback": [
      "\u001b[1;31m---------------------------------------------------------------------------\u001b[0m",
      "\u001b[1;31mKeyboardInterrupt\u001b[0m                         Traceback (most recent call last)",
      "Cell \u001b[1;32mIn [2], line 1\u001b[0m\n\u001b[1;32m----> 1\u001b[0m an\u001b[38;5;241m.\u001b[39malpha_beta_analyze()\n\u001b[0;32m      2\u001b[0m an\u001b[38;5;241m.\u001b[39mretrograde_analyze()\n",
      "File \u001b[1;32m~\\Documents\\workspace\\game-analyzer\\analyzer.py:160\u001b[0m, in \u001b[0;36mAnalyzer.alpha_beta_analyze\u001b[1;34m(self, max_step, rel_depth)\u001b[0m\n\u001b[0;32m    158\u001b[0m \u001b[38;5;28;01melse\u001b[39;00m:\n\u001b[0;32m    159\u001b[0m     child_ind \u001b[38;5;241m=\u001b[39m \u001b[38;5;28mself\u001b[39m\u001b[38;5;241m.\u001b[39madd_hash(child_hash)\n\u001b[1;32m--> 160\u001b[0m     end_ev \u001b[38;5;241m=\u001b[39m \u001b[38;5;28;43mself\u001b[39;49m\u001b[38;5;241;43m.\u001b[39;49m\u001b[43mend_func\u001b[49m\u001b[43m(\u001b[49m\u001b[43mchild_mat\u001b[49m\u001b[43m)\u001b[49m\n\u001b[0;32m    161\u001b[0m     \u001b[38;5;28;01mif\u001b[39;00m end_ev \u001b[38;5;241m==\u001b[39m \u001b[38;5;28;01mNone\u001b[39;00m:\n\u001b[0;32m    162\u001b[0m         next_block[\u001b[38;5;241m4\u001b[39m]\u001b[38;5;241m.\u001b[39mappend(child_ind)\n",
      "Cell \u001b[1;32mIn [1], line 33\u001b[0m, in \u001b[0;36mend_func\u001b[1;34m(mat)\u001b[0m\n\u001b[0;32m     31\u001b[0m \u001b[38;5;28;01mfor\u001b[39;00m i \u001b[38;5;129;01min\u001b[39;00m \u001b[38;5;28mrange\u001b[39m(require):\n\u001b[0;32m     32\u001b[0m     roll_mat \u001b[38;5;241m=\u001b[39m np\u001b[38;5;241m.\u001b[39mroll(mat, dx\u001b[38;5;241m*\u001b[39mi, axis\u001b[38;5;241m=\u001b[39m\u001b[38;5;241m0\u001b[39m)\n\u001b[1;32m---> 33\u001b[0m     roll_mat \u001b[38;5;241m=\u001b[39m \u001b[43mnp\u001b[49m\u001b[38;5;241;43m.\u001b[39;49m\u001b[43mroll\u001b[49m\u001b[43m(\u001b[49m\u001b[43mroll_mat\u001b[49m\u001b[43m,\u001b[49m\u001b[43m \u001b[49m\u001b[43mdy\u001b[49m\u001b[38;5;241;43m*\u001b[39;49m\u001b[43mi\u001b[49m\u001b[43m,\u001b[49m\u001b[43m \u001b[49m\u001b[43maxis\u001b[49m\u001b[38;5;241;43m=\u001b[39;49m\u001b[38;5;241;43m1\u001b[39;49m\u001b[43m)\u001b[49m\n\u001b[0;32m     34\u001b[0m     counter[roll_mat \u001b[38;5;241m==\u001b[39m \u001b[38;5;241m2\u001b[39m] \u001b[38;5;241m+\u001b[39m\u001b[38;5;241m=\u001b[39m \u001b[38;5;241m1\u001b[39m\n\u001b[0;32m     35\u001b[0m     \u001b[38;5;28;01mif\u001b[39;00m np\u001b[38;5;241m.\u001b[39many(counter[:size\u001b[38;5;241m-\u001b[39mdx\u001b[38;5;241m*\u001b[39m(require\u001b[38;5;241m-\u001b[39m\u001b[38;5;241m1\u001b[39m),:size\u001b[38;5;241m-\u001b[39mdy\u001b[38;5;241m*\u001b[39m(require\u001b[38;5;241m-\u001b[39m\u001b[38;5;241m1\u001b[39m)] \u001b[38;5;241m==\u001b[39m require):\n",
      "File \u001b[1;32m<__array_function__ internals>:200\u001b[0m, in \u001b[0;36mroll\u001b[1;34m(*args, **kwargs)\u001b[0m\n",
      "File \u001b[1;32m~\\AppData\\Local\\Packages\\PythonSoftwareFoundation.Python.3.10_qbz5n2kfra8p0\\LocalCache\\local-packages\\Python310\\site-packages\\numpy\\core\\numeric.py:1249\u001b[0m, in \u001b[0;36mroll\u001b[1;34m(a, shift, axis)\u001b[0m\n\u001b[0;32m   1247\u001b[0m \u001b[38;5;28;01mfor\u001b[39;00m indices \u001b[38;5;129;01min\u001b[39;00m itertools\u001b[38;5;241m.\u001b[39mproduct(\u001b[38;5;241m*\u001b[39mrolls):\n\u001b[0;32m   1248\u001b[0m     arr_index, res_index \u001b[38;5;241m=\u001b[39m \u001b[38;5;28mzip\u001b[39m(\u001b[38;5;241m*\u001b[39mindices)\n\u001b[1;32m-> 1249\u001b[0m     result[res_index] \u001b[38;5;241m=\u001b[39m a[arr_index]\n\u001b[0;32m   1251\u001b[0m \u001b[38;5;28;01mreturn\u001b[39;00m result\n",
      "\u001b[1;31mKeyboardInterrupt\u001b[0m: "
     ]
    }
   ],
   "source": [
    "an.alpha_beta_analyze()\n",
    "an.retrograde_analyze()"
   ]
  },
  {
   "cell_type": "code",
   "execution_count": null,
   "metadata": {},
   "outputs": [],
   "source": [
    "print(an.mat_to_status(init_mat))"
   ]
  }
 ],
 "metadata": {
  "kernelspec": {
   "display_name": "Python 3 (ipykernel)",
   "language": "python",
   "name": "python3"
  },
  "language_info": {
   "codemirror_mode": {
    "name": "ipython",
    "version": 3
   },
   "file_extension": ".py",
   "mimetype": "text/x-python",
   "name": "python",
   "nbconvert_exporter": "python",
   "pygments_lexer": "ipython3",
   "version": "3.10.11"
  }
 },
 "nbformat": 4,
 "nbformat_minor": 2
}
