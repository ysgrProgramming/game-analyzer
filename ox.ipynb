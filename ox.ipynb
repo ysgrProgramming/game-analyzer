{
 "cells": [
  {
   "cell_type": "markdown",
   "metadata": {},
   "source": [
    "# 一般化された○×ゲーム\n",
    "\n",
    "## 問題定義"
   ]
  },
  {
   "cell_type": "code",
   "execution_count": 7,
   "metadata": {},
   "outputs": [],
   "source": [
    "import numpy as np\n",
    "from analyzer import Analyzer\n",
    "\n",
    "size = 5\n",
    "require = 4\n",
    "init_mat = np.zeros((size, size))\n",
    "max_mat = np.full((size, size), 2)\n",
    "\n",
    "def next_func(mat):\n",
    "    rev_mat = mat*2%3\n",
    "    for y in range(size):\n",
    "        for x in range(size):\n",
    "            if rev_mat[y][x] == 0:\n",
    "                next_mat = rev_mat.copy()\n",
    "                next_mat[y][x] = 2\n",
    "                yield next_mat\n",
    "\n",
    "def sym_func(mat):\n",
    "    for i in range(4):\n",
    "        flip_mat = mat.copy()\n",
    "        if i & 1: flip_mat = np.flip(flip_mat, axis=0)\n",
    "        if i & 2: flip_mat = np.flip(flip_mat, axis=1)\n",
    "        for j in range(4):\n",
    "            rot_mat = np.rot90(flip_mat, j)\n",
    "            yield rot_mat\n",
    "\n",
    "def end_func(mat):\n",
    "    dir_list = [(0, 1), (1, 0), (1, 1)]\n",
    "    for dx, dy in dir_list:\n",
    "        counter = np.zeros((size, size))\n",
    "        for i in range(require):\n",
    "            roll_mat = np.roll(mat, dx*i, axis=0)\n",
    "            roll_mat = np.roll(roll_mat, dy*i, axis=1)\n",
    "            counter[roll_mat == 2] += 1\n",
    "            if np.any(counter[:size-dx*(require-1),:size-dy*(require-1)] == require):\n",
    "                return -1\n",
    "\n",
    "an = Analyzer(init_mat, max_mat, next_func, sym_func, end_func, default=0)"
   ]
  },
  {
   "cell_type": "code",
   "execution_count": 8,
   "metadata": {},
   "outputs": [
    {
     "name": "stdout",
     "output_type": "stream",
     "text": [
      "\n",
      "--- start alpha beta analyze ---\n",
      "\n",
      "45617.0s detected_states = 44087629"
     ]
    },
    {
     "ename": "KeyboardInterrupt",
     "evalue": "",
     "output_type": "error",
     "traceback": [
      "\u001b[1;31m---------------------------------------------------------------------------\u001b[0m",
      "\u001b[1;31mKeyboardInterrupt\u001b[0m                         Traceback (most recent call last)",
      "\u001b[1;32mc:\\Users\\ymizu\\Documents\\workspace\\game-analyzer\\ox.ipynb Cell 3\u001b[0m line \u001b[0;36m1\n\u001b[1;32m----> <a href='vscode-notebook-cell:/c%3A/Users/ymizu/Documents/workspace/game-analyzer/ox.ipynb#W3sZmlsZQ%3D%3D?line=0'>1</a>\u001b[0m an\u001b[39m.\u001b[39malpha_beta_analyze()\n\u001b[0;32m      <a href='vscode-notebook-cell:/c%3A/Users/ymizu/Documents/workspace/game-analyzer/ox.ipynb#W3sZmlsZQ%3D%3D?line=1'>2</a>\u001b[0m an\u001b[39m.\u001b[39mretrograde_analyze()\n",
      "File \u001b[1;32mc:\\Users\\ymizu\\Documents\\workspace\\game-analyzer\\analyzer.py:146\u001b[0m, in \u001b[0;36malpha_beta_analyze\u001b[1;34m(self, max_step, rel_depth)\u001b[0m\n\u001b[0;32m    144\u001b[0m next_mat \u001b[39m=\u001b[39m \u001b[39mself\u001b[39m\u001b[39m.\u001b[39mhash_to_mat(next_hash)\n\u001b[0;32m    145\u001b[0m child_ind_set \u001b[39m=\u001b[39m \u001b[39mset\u001b[39m()\n\u001b[1;32m--> 146\u001b[0m \u001b[39mfor\u001b[39;00m child_mat \u001b[39min\u001b[39;00m \u001b[39mself\u001b[39m\u001b[39m.\u001b[39mnext_func(next_mat):\n\u001b[0;32m    147\u001b[0m     child_hash \u001b[39m=\u001b[39m \u001b[39mself\u001b[39m\u001b[39m.\u001b[39mmat_to_min_hash(child_mat)\n\u001b[0;32m    148\u001b[0m     \u001b[39mif\u001b[39;00m child_hash \u001b[39min\u001b[39;00m \u001b[39mself\u001b[39m\u001b[39m.\u001b[39mhash_dict:\n",
      "File \u001b[1;32mc:\\Users\\ymizu\\Documents\\workspace\\game-analyzer\\analyzer.py:52\u001b[0m, in \u001b[0;36mmat_to_min_hash\u001b[1;34m(self, mat)\u001b[0m\n\u001b[0;32m     50\u001b[0m \u001b[39mhash\u001b[39m \u001b[39m=\u001b[39m \u001b[39mself\u001b[39m\u001b[39m.\u001b[39mmax_hash\n\u001b[0;32m     51\u001b[0m \u001b[39mfor\u001b[39;00m sym_mat \u001b[39min\u001b[39;00m \u001b[39mself\u001b[39m\u001b[39m.\u001b[39msym_func(mat):\n\u001b[1;32m---> 52\u001b[0m     sym_hash \u001b[39m=\u001b[39m np\u001b[39m.\u001b[39msum(sym_mat \u001b[39m*\u001b[39m \u001b[39mself\u001b[39m\u001b[39m.\u001b[39mbase1_mat)\n\u001b[0;32m     53\u001b[0m     \u001b[39mif\u001b[39;00m sym_hash \u001b[39m<\u001b[39m \u001b[39mhash\u001b[39m:\n\u001b[0;32m     54\u001b[0m         \u001b[39mhash\u001b[39m \u001b[39m=\u001b[39m sym_hash\n",
      "\u001b[1;32mc:\\Users\\ymizu\\Documents\\workspace\\game-analyzer\\ox.ipynb Cell 3\u001b[0m line \u001b[0;36m2\n\u001b[0;32m     <a href='vscode-notebook-cell:/c%3A/Users/ymizu/Documents/workspace/game-analyzer/ox.ipynb#W3sZmlsZQ%3D%3D?line=17'>18</a>\u001b[0m \u001b[39mdef\u001b[39;00m \u001b[39msym_func\u001b[39m(mat):\n\u001b[0;32m     <a href='vscode-notebook-cell:/c%3A/Users/ymizu/Documents/workspace/game-analyzer/ox.ipynb#W3sZmlsZQ%3D%3D?line=18'>19</a>\u001b[0m     \u001b[39mfor\u001b[39;00m i \u001b[39min\u001b[39;00m \u001b[39mrange\u001b[39m(\u001b[39m4\u001b[39m):\n\u001b[1;32m---> <a href='vscode-notebook-cell:/c%3A/Users/ymizu/Documents/workspace/game-analyzer/ox.ipynb#W3sZmlsZQ%3D%3D?line=19'>20</a>\u001b[0m         flip_mat \u001b[39m=\u001b[39m mat\u001b[39m.\u001b[39;49mcopy()\n\u001b[0;32m     <a href='vscode-notebook-cell:/c%3A/Users/ymizu/Documents/workspace/game-analyzer/ox.ipynb#W3sZmlsZQ%3D%3D?line=20'>21</a>\u001b[0m         \u001b[39mif\u001b[39;00m i \u001b[39m&\u001b[39m \u001b[39m1\u001b[39m: flip_mat \u001b[39m=\u001b[39m np\u001b[39m.\u001b[39mflip(flip_mat, axis\u001b[39m=\u001b[39m\u001b[39m0\u001b[39m)\n\u001b[0;32m     <a href='vscode-notebook-cell:/c%3A/Users/ymizu/Documents/workspace/game-analyzer/ox.ipynb#W3sZmlsZQ%3D%3D?line=21'>22</a>\u001b[0m         \u001b[39mif\u001b[39;00m i \u001b[39m&\u001b[39m \u001b[39m2\u001b[39m: flip_mat \u001b[39m=\u001b[39m np\u001b[39m.\u001b[39mflip(flip_mat, axis\u001b[39m=\u001b[39m\u001b[39m1\u001b[39m)\n",
      "\u001b[1;31mKeyboardInterrupt\u001b[0m: "
     ]
    }
   ],
   "source": [
    "an.alpha_beta_analyze()\n",
    "an.retrograde_analyze()"
   ]
  },
  {
   "cell_type": "code",
   "execution_count": null,
   "metadata": {},
   "outputs": [
    {
     "name": "stdout",
     "output_type": "stream",
     "text": [
      "(5, 1)\n"
     ]
    }
   ],
   "source": [
    "print(an.mat_to_status(init_mat))"
   ]
  }
 ],
 "metadata": {
  "kernelspec": {
   "display_name": "Python 3",
   "language": "python",
   "name": "python3"
  },
  "language_info": {
   "codemirror_mode": {
    "name": "ipython",
    "version": 3
   },
   "file_extension": ".py",
   "mimetype": "text/x-python",
   "name": "python",
   "nbconvert_exporter": "python",
   "pygments_lexer": "ipython3",
   "version": "3.10.11"
  },
  "orig_nbformat": 4
 },
 "nbformat": 4,
 "nbformat_minor": 2
}
