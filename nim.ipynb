{
 "cells": [
  {
   "cell_type": "markdown",
   "metadata": {},
   "source": [
    "# Nim\n",
    "\n",
    "## 問題定義"
   ]
  },
  {
   "cell_type": "code",
   "execution_count": 1,
   "metadata": {},
   "outputs": [],
   "source": [
    "import numpy as np\n",
    "from analyzer import Analyzer\n",
    "\n",
    "init_mat = np.array([10]*10)\n",
    "max_mat = init_mat.copy()\n",
    "\n",
    "def next_func(mat):\n",
    "    size = mat.shape[0]\n",
    "    for i in range(size):\n",
    "        for j in range(mat[i]):\n",
    "            new_mat = mat.copy()\n",
    "            new_mat[i] = j\n",
    "            yield new_mat\n",
    "\n",
    "def sym_func(mat):\n",
    "    return [np.sort(mat)]\n",
    "\n",
    "an = Analyzer(init_mat, max_mat, next_func, sym_func, default=-1)"
   ]
  },
  {
   "cell_type": "markdown",
   "metadata": {},
   "source": [
    "## 求解"
   ]
  },
  {
   "cell_type": "code",
   "execution_count": 2,
   "metadata": {},
   "outputs": [
    {
     "name": "stdout",
     "output_type": "stream",
     "text": [
      "\n",
      "--- start alpha beta analyze ---\n",
      "\n",
      "49.0s detected_states = 183449\n",
      "-- alpha beta analyze finished --\n",
      "\n",
      "total detected states = 184756\n",
      "total elapsed time = 49.613\n",
      "next, apply 'retrograde_analyze' to the states that could not be evaluated\n",
      "\n",
      "--- start retrograde analyze ---\n",
      "\n",
      "\n",
      "-- retrograde analyze finished --\n",
      "\n",
      "total elapsed time = 0.026\n",
      "analyze finished, You can use 'mat_to_status' or 'list_example' etc. to get the results of analysis.\n"
     ]
    }
   ],
   "source": [
    "an.alpha_beta_analyze()\n",
    "an.retrograde_analyze()"
   ]
  },
  {
   "cell_type": "code",
   "execution_count": 4,
   "metadata": {},
   "outputs": [
    {
     "data": {
      "text/plain": [
       "(100, -1)"
      ]
     },
     "execution_count": 4,
     "metadata": {},
     "output_type": "execute_result"
    }
   ],
   "source": [
    "an.mat_to_status(init_mat)"
   ]
  }
 ],
 "metadata": {
  "kernelspec": {
   "display_name": "Python 3",
   "language": "python",
   "name": "python3"
  },
  "language_info": {
   "codemirror_mode": {
    "name": "ipython",
    "version": 3
   },
   "file_extension": ".py",
   "mimetype": "text/x-python",
   "name": "python",
   "nbconvert_exporter": "python",
   "pygments_lexer": "ipython3",
   "version": "3.10.11"
  },
  "orig_nbformat": 4
 },
 "nbformat": 4,
 "nbformat_minor": 2
}
