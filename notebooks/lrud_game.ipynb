{
 "cells": [
  {
   "cell_type": "markdown",
   "metadata": {},
   "source": [
    "# LRUD Game\n",
    "\n",
    "## 問題定義"
   ]
  },
  {
   "cell_type": "code",
   "execution_count": 5,
   "metadata": {},
   "outputs": [],
   "source": [
    "from dataclasses import dataclass\n",
    "from typing import Literal\n",
    "\n",
    "from game_analyzer import Game, Solver, State\n",
    "\n",
    "\n",
    "@dataclass\n",
    "class LRUDState(State):\n",
    "    r: int\n",
    "    c: int\n",
    "    step: int\n",
    "    turn: Literal[0, 1]\n",
    "\n",
    "\n",
    "class LRUD(Game):\n",
    "    move_dict = {\"L\": (0, -1), \"R\": (0, 1), \"U\": (-1, 0), \"D\": (1, 0)}\n",
    "\n",
    "    def __init__(self, h, w, init_cd, s_list, t_list, max_step):\n",
    "        self.h = h\n",
    "        self.w = w\n",
    "        self.s_list = s_list\n",
    "        self.t_list = t_list\n",
    "        self.max_step = max_step\n",
    "        r, c = init_cd\n",
    "\n",
    "        self.init_state = LRUDState(r=r, c=c, step=0, turn=0)\n",
    "\n",
    "    def find_next_states(self, state):\n",
    "        r, c, step, turn = state.r, state.c, state.step, state.turn\n",
    "        if turn == 0:\n",
    "            d = [(0, 0), self.move_dict[self.s_list[step]]]\n",
    "            for dr, dc in d:\n",
    "                yield LRUDState(r=r+dr, c=c+dc, step=step, turn=1)\n",
    "        else:\n",
    "            d = [(0, 0), self.move_dict[self.t_list[step]]]\n",
    "            for dr, dc in d:\n",
    "                yield LRUDState(r=r+dr, c=c+dc, step=step+1, turn=0)\n",
    "\n",
    "    def find_mirror_states(self, state):\n",
    "        yield state\n",
    "\n",
    "    def evaluate_state(self, state):\n",
    "        r, c, step, turn = state.r, state.c, state.step, state.turn\n",
    "        if not self._is_on_board(r, c):\n",
    "            if turn == 0:\n",
    "                return 1\n",
    "            return -1\n",
    "        if step == self.max_step:\n",
    "            if turn == 0:\n",
    "                return -1\n",
    "            return 1\n",
    "        return None\n",
    "\n",
    "    def _is_on_board(self, r, c):\n",
    "        return 1 <= r <= self.h and 1 <= c <= self.w\n"
   ]
  },
  {
   "cell_type": "markdown",
   "metadata": {},
   "source": [
    "## 求解"
   ]
  },
  {
   "cell_type": "code",
   "execution_count": 6,
   "metadata": {},
   "outputs": [],
   "source": [
    "lrud = LRUD(h=2, w=3, init_cd=(2, 2), s_list=\"RRL\", t_list=\"LUD\", max_step=3)\n",
    "solver = Solver()\n",
    "result = solver.solve(lrud)"
   ]
  },
  {
   "cell_type": "markdown",
   "metadata": {},
   "source": [
    "## 結果"
   ]
  },
  {
   "cell_type": "code",
   "execution_count": 7,
   "metadata": {},
   "outputs": [
    {
     "data": {
      "text/plain": [
       "(-1, 6)"
      ]
     },
     "execution_count": 7,
     "metadata": {},
     "output_type": "execute_result"
    }
   ],
   "source": [
    "result.state_to_params(lrud.init_state)"
   ]
  },
  {
   "cell_type": "code",
   "execution_count": 8,
   "metadata": {},
   "outputs": [
    {
     "data": {
      "text/plain": [
       "'result.sgg_time=0.00026917457580566406s, result.ra_time=5.984306335449219e-05s'"
      ]
     },
     "execution_count": 8,
     "metadata": {},
     "output_type": "execute_result"
    }
   ],
   "source": [
    "f\"{result.sgg_time=}s, {result.ra_time=}s\""
   ]
  }
 ],
 "metadata": {
  "kernelspec": {
   "display_name": ".venv",
   "language": "python",
   "name": "python3"
  },
  "language_info": {
   "codemirror_mode": {
    "name": "ipython",
    "version": 3
   },
   "file_extension": ".py",
   "mimetype": "text/x-python",
   "name": "python",
   "nbconvert_exporter": "python",
   "pygments_lexer": "ipython3",
   "version": "3.11.7"
  }
 },
 "nbformat": 4,
 "nbformat_minor": 4
}
