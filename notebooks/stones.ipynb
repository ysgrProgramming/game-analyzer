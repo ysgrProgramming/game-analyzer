{
 "cells": [
  {
   "cell_type": "markdown",
   "metadata": {},
   "source": [
    "# Stones\n",
    "\n",
    "## 問題定義"
   ]
  },
  {
   "cell_type": "code",
   "execution_count": 1,
   "metadata": {},
   "outputs": [],
   "source": [
    "from dataclasses import dataclass\n",
    "\n",
    "from game_analyzer import Game\n",
    "from game_analyzer import Solver\n",
    "from game_analyzer import State\n",
    "\n",
    "\n",
    "@dataclass\n",
    "class StonesState(State):\n",
    "    stones: int\n",
    "\n",
    "class Stones(Game):\n",
    "    def __init__(self, init_stones, hand_list):\n",
    "        self.init_state = StonesState(stones=init_stones)\n",
    "        self.hand_list = hand_list\n",
    "        self.default_eval = -1\n",
    "\n",
    "    def find_next_states(self, state):\n",
    "        for hand in self.hand_list:\n",
    "            next_stones = state.stones - hand\n",
    "            if next_stones >= 0:\n",
    "                yield StonesState(stones=next_stones)\n",
    "\n",
    "    def find_mirror_states(self, state):\n",
    "        yield state\n",
    "\n",
    "    def evaluate_state(self, state):\n",
    "        return None"
   ]
  },
  {
   "cell_type": "markdown",
   "metadata": {},
   "source": [
    "## 求解"
   ]
  },
  {
   "cell_type": "code",
   "execution_count": 2,
   "metadata": {},
   "outputs": [],
   "source": [
    "Stones = Stones(init_stones=4, hand_list=[2, 3])\n",
    "solver = Solver()\n",
    "result = solver.solve(Stones)"
   ]
  },
  {
   "cell_type": "markdown",
   "metadata": {},
   "source": [
    "## 結果"
   ]
  },
  {
   "cell_type": "code",
   "execution_count": 3,
   "metadata": {},
   "outputs": [
    {
     "data": {
      "text/plain": [
       "(1, 1)"
      ]
     },
     "execution_count": 3,
     "metadata": {},
     "output_type": "execute_result"
    }
   ],
   "source": [
    "result.state_to_params(Stones.init_state)"
   ]
  },
  {
   "cell_type": "code",
   "execution_count": 4,
   "metadata": {},
   "outputs": [
    {
     "data": {
      "text/plain": [
       "'result.sgg_time=4.00543212890625e-05s, result.ra_time=1.1920928955078125e-05s'"
      ]
     },
     "execution_count": 4,
     "metadata": {},
     "output_type": "execute_result"
    }
   ],
   "source": [
    "f\"{result.sgg_time=}s, {result.ra_time=}s\""
   ]
  }
 ],
 "metadata": {
  "kernelspec": {
   "display_name": ".venv",
   "language": "python",
   "name": "python3"
  },
  "language_info": {
   "codemirror_mode": {
    "name": "ipython",
    "version": 3
   },
   "file_extension": ".py",
   "mimetype": "text/x-python",
   "name": "python",
   "nbconvert_exporter": "python",
   "pygments_lexer": "ipython3",
   "version": "3.11.7"
  }
 },
 "nbformat": 4,
 "nbformat_minor": 4
}
