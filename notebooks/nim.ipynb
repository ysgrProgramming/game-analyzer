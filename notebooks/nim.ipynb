{
 "cells": [
  {
   "cell_type": "markdown",
   "metadata": {},
   "source": [
    "# Nim\n",
    "\n",
    "## 問題定義"
   ]
  },
  {
   "cell_type": "code",
   "execution_count": 2,
   "metadata": {},
   "outputs": [],
   "source": [
    "from game_analyzer import State, Game, Solver\n",
    "from dataclasses import dataclass\n",
    "\n",
    "\n",
    "@dataclass\n",
    "class NimState(State):\n",
    "    stones: int\n",
    "\n",
    "class Nim(Game):\n",
    "    def __init__(self, init_stones, hands):\n",
    "        self.init_state = NimState(stones=init_stones)\n",
    "        self.hands = hands\n",
    "        self.default_eval = -1\n",
    "\n",
    "    def find_next_states(self, state):\n",
    "        for i in range(1, self.hands+1):\n",
    "            if state.stones - i < 0: break\n",
    "            yield NimState(stones=state.stones - i)\n",
    "\n",
    "    def find_mirror_states(self, state):\n",
    "        yield state\n",
    "\n",
    "    def evaluate_state(self, state):\n",
    "        return None"
   ]
  },
  {
   "cell_type": "code",
   "execution_count": 3,
   "metadata": {},
   "outputs": [],
   "source": [
    "nim = Nim(init_stones=1000, hands=99)\n",
    "solver = Solver()\n",
    "result = solver.solve(nim)"
   ]
  },
  {
   "cell_type": "code",
   "execution_count": null,
   "metadata": {},
   "outputs": [
    {
     "data": {
      "text/plain": [
       "'ev=-1, depth=20'"
      ]
     },
     "execution_count": 10,
     "metadata": {},
     "output_type": "execute_result"
    }
   ],
   "source": [
    "result.state_to_params(nim.init_state)"
   ]
  },
  {
   "cell_type": "code",
   "execution_count": 7,
   "metadata": {},
   "outputs": [
    {
     "data": {
      "text/plain": [
       "'result.sgg_time=0.11635279655456543, result.ra_time=0.02637958526611328'"
      ]
     },
     "execution_count": 7,
     "metadata": {},
     "output_type": "execute_result"
    }
   ],
   "source": [
    "f\"{result.sgg_time=}, {result.ra_time=}\""
   ]
  }
 ],
 "metadata": {
  "kernelspec": {
   "display_name": ".venv",
   "language": "python",
   "name": "python3"
  },
  "language_info": {
   "codemirror_mode": {
    "name": "ipython",
    "version": 3
   },
   "file_extension": ".py",
   "mimetype": "text/x-python",
   "name": "python",
   "nbconvert_exporter": "python",
   "pygments_lexer": "ipython3",
   "version": "3.10.11"
  }
 },
 "nbformat": 4,
 "nbformat_minor": 4
}
