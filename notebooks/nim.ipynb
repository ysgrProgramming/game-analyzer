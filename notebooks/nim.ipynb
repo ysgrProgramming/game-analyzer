{
 "cells": [
  {
   "cell_type": "markdown",
   "metadata": {},
   "source": [
    "# Nim\n",
    "\n",
    "## 問題定義"
   ]
  },
  {
   "cell_type": "code",
   "execution_count": 1,
   "metadata": {},
   "outputs": [],
   "source": [
    "import numpy as np\n",
    "from analyzer import Analyzer\n",
    "\n",
    "init_mat = np.array([10])\n",
    "max_mat = init_mat.copy()\n",
    "\n",
    "def next_func(mat):\n",
    "    size = mat.shape[0]\n",
    "    for i in range(size):\n",
    "        for j in range(mat[i]):\n",
    "            new_mat = mat.copy()\n",
    "            new_mat[i] = j\n",
    "            yield np.sort(new_mat)\n",
    "\n",
    "def sym_func(mat):\n",
    "    return [mat]\n",
    "\n",
    "an = Analyzer(init_mat, max_mat, next_func, sym_func, default=-1)"
   ]
  },
  {
   "cell_type": "markdown",
   "metadata": {},
   "source": [
    "## 求解"
   ]
  },
  {
   "cell_type": "code",
   "execution_count": 3,
   "metadata": {},
   "outputs": [
    {
     "data": {
      "text/plain": [
       "[999, -1000, -1000, -1000, -1000, -1000, -1000, -1000, -1000, -1000, -1000]"
      ]
     },
     "execution_count": 3,
     "metadata": {},
     "output_type": "execute_result"
    }
   ],
   "source": [
    "an.alpha_beta_analyze(init_mat, 10000)\n",
    "an.min_eval_list"
   ]
  },
  {
   "cell_type": "code",
   "execution_count": 4,
   "metadata": {},
   "outputs": [
    {
     "data": {
      "text/plain": [
       "(100, -1)"
      ]
     },
     "execution_count": 4,
     "metadata": {},
     "output_type": "execute_result"
    }
   ],
   "source": [
    "an.mat_to_status(init_mat)"
   ]
  },
  {
   "cell_type": "code",
   "execution_count": 1,
   "metadata": {},
   "outputs": [
    {
     "name": "stdout",
     "output_type": "stream",
     "text": [
      "<class 'tuple'>\n"
     ]
    }
   ],
   "source": [
    "def x():\n",
    "    a, b = 1, 2\n",
    "    return a, b\n",
    "\n",
    "print(type(x()))"
   ]
  }
 ],
 "metadata": {
  "kernelspec": {
   "display_name": "Python 3",
   "language": "python",
   "name": "python3"
  },
  "language_info": {
   "codemirror_mode": {
    "name": "ipython",
    "version": 3
   },
   "file_extension": ".py",
   "mimetype": "text/x-python",
   "name": "python",
   "nbconvert_exporter": "python",
   "pygments_lexer": "ipython3",
   "version": "3.11.7"
  },
  "orig_nbformat": 4
 },
 "nbformat": 4,
 "nbformat_minor": 2
}
