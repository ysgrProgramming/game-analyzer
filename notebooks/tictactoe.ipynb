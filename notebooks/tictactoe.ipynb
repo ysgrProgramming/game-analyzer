{
 "cells": [
  {
   "cell_type": "code",
   "execution_count": 1,
   "metadata": {},
   "outputs": [],
   "source": [
    "from games import TicTacToe\n",
    "from solvers import StrongSolver\n",
    "\n",
    "game = TicTacToe(3, 3)\n",
    "solver = StrongSolver()\n",
    "result = solver.solve(game)"
   ]
  },
  {
   "cell_type": "code",
   "execution_count": 34,
   "metadata": {},
   "outputs": [
    {
     "name": "stdout",
     "output_type": "stream",
     "text": [
      "(1, (0, (1, 1)))\n"
     ]
    }
   ],
   "source": [
    "from collections import namedtuple\n",
    "\n",
    "def convert_iterable_to_hashable(variable: Hashable | Iterable[Iterable | Hashable]) -> Hashable:\n",
    "    if isinstance(variable, Hashable):\n",
    "        return variable\n",
    "    elif isinstance(variable, Iterable):\n",
    "        return tuple(map(convert_iterable_to_hashable, variable)) # type: ignore\n",
    "    else:\n",
    "        raise Exception(\"cannot convert to hashable\")\n",
    "\n",
    "def convert_statedict_to_hashable(dictionary: dict[str, Hashable | Iterable]):\n",
    "    keys = sorted(k for k in dictionary.keys() if not k.startswith(\"_\"))\n",
    "    variables = tuple(map(lambda k: convert_iterable_to_hashable(dictionary[k]), keys))\n",
    "    return variables\n",
    "\n",
    "class State:\n",
    "    def __init__(self, a, b):\n",
    "        self.b = a\n",
    "        self.a = b\n",
    "\n",
    "state = State(a=[0, [1, 1]], b=1)\n",
    "print(convert_statedict_to_hashable(state.__getstate__()))"
   ]
  },
  {
   "cell_type": "code",
   "execution_count": null,
   "metadata": {},
   "outputs": [],
   "source": [
    "def a(d):\n",
    "    "
   ]
  },
  {
   "cell_type": "markdown",
   "metadata": {},
   "source": []
  }
 ],
 "metadata": {
  "kernelspec": {
   "display_name": "game-analyzer-cm5Z8wYg",
   "language": "python",
   "name": "python3"
  },
  "language_info": {
   "codemirror_mode": {
    "name": "ipython",
    "version": 3
   },
   "file_extension": ".py",
   "mimetype": "text/x-python",
   "name": "python",
   "nbconvert_exporter": "python",
   "pygments_lexer": "ipython3",
   "version": "3.11.7"
  }
 },
 "nbformat": 4,
 "nbformat_minor": 2
}
