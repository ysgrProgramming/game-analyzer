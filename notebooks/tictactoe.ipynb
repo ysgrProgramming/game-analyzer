{
 "cells": [
  {
   "cell_type": "code",
   "execution_count": 1,
   "metadata": {},
   "outputs": [],
   "source": [
    "from games import TicTacToe\n",
    "from solvers import StrongSolver\n",
    "\n",
    "game = TicTacToe(3, 3)\n",
    "solver = StrongSolver()\n",
    "result = solver.solve(game)"
   ]
  },
  {
   "cell_type": "code",
   "execution_count": 49,
   "metadata": {},
   "outputs": [],
   "source": [
    "from collections import namedtuple\n",
    "\n",
    "def convert_iterable_to_hashable(variable: Hashable | Iterable[Iterable | Hashable]) -> Hashable:\n",
    "    if isinstance(variable, Hashable):\n",
    "        return variable\n",
    "    elif isinstance(variable, Iterable):\n",
    "        return tuple(map(convert_iterable_to_hashable, variable)) # type: ignore\n",
    "    else:\n",
    "        raise Exception(\"cannot convert to hashable\")\n",
    "\n",
    "def convert_statedict_to_hashable(dictionary: dict[str, Hashable | Iterable]):\n",
    "    keys = sorted(k for k in dictionary.keys() if not k.startswith(\"_\"))\n",
    "    values = [dictionary[key] for key in keys]\n",
    "    variables = tuple(map(convert_iterable_to_hashable, values))\n",
    "    return variables\n",
    "\n",
    "class State:\n",
    "    def __init__(self, a, b):\n",
    "        self.b = a\n",
    "        self.a = b\n",
    "\n",
    "n = 5\n",
    "for i in range(1000000):\n",
    "    state = State(a=[[0]*n for _ in range(n)], b=1)\n",
    "    convert_statedict_to_hashable(state.__getstate__())\n",
    "#print(convert_statedict_to_hashable(state.__getstate__()))"
   ]
  },
  {
   "cell_type": "code",
   "execution_count": 47,
   "metadata": {},
   "outputs": [
    {
     "name": "stdout",
     "output_type": "stream",
     "text": [
      "[1, 2, 3] [1, 2, 3]\n",
      "529344067295497451 529344067295497451\n"
     ]
    }
   ],
   "source": [
    "a = tuple(map(int, [\"1\", \"2\", \"3\"]))\n",
    "b = tuple(map(int, [1, 2, 3]))\n",
    "print(list(a), list(b))\n",
    "print(hash(a), hash(b))"
   ]
  },
  {
   "cell_type": "code",
   "execution_count": 1,
   "metadata": {},
   "outputs": [
    {
     "name": "stdout",
     "output_type": "stream",
     "text": [
      "1\n",
      "2\n",
      "3\n",
      "4\n",
      "5\n",
      "6\n"
     ]
    }
   ],
   "source": [
    "import numpy as np\n",
    "\n",
    "a = np.array([\n",
    "    [1, 2, 3],\n",
    "    [4, 5, 6]\n",
    "])\n",
    "\n",
    "for b in a:\n",
    "    for c in b:\n",
    "        print(c)"
   ]
  },
  {
   "cell_type": "markdown",
   "metadata": {},
   "source": []
  }
 ],
 "metadata": {
  "kernelspec": {
   "display_name": "Python 3",
   "language": "python",
   "name": "python3"
  },
  "language_info": {
   "codemirror_mode": {
    "name": "ipython",
    "version": 3
   },
   "file_extension": ".py",
   "mimetype": "text/x-python",
   "name": "python",
   "nbconvert_exporter": "python",
   "pygments_lexer": "ipython3",
   "version": "3.10.11"
  }
 },
 "nbformat": 4,
 "nbformat_minor": 2
}
