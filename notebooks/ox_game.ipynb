{
 "cells": [
  {
   "cell_type": "markdown",
   "metadata": {},
   "source": [
    "# OXゲーム"
   ]
  },
  {
   "cell_type": "markdown",
   "metadata": {},
   "source": [
    "## 問題定義"
   ]
  },
  {
   "cell_type": "code",
   "execution_count": 16,
   "metadata": {},
   "outputs": [],
   "source": [
    "# Use English for comments\n",
    "from dataclasses import dataclass\n",
    "from typing import Iterable, Optional\n",
    "from game_analyzer import HashState, State, Game, Solver\n",
    "\n",
    "\n",
    "@dataclass\n",
    "class OXState(HashState):\n",
    "    # 0 = empty, 1 = O, 2 = X\n",
    "    board: list[list[int]]\n",
    "    current_player: int\n",
    "\n",
    "\n",
    "class OXGame(Game):\n",
    "    def __init__(self, board_size: int, line_length: int):\n",
    "        board = [[0]*board_size for _ in range(board_size)]\n",
    "        self.board_size = board_size\n",
    "        self.line_length = line_length\n",
    "        self.init_state = OXState(board=board, current_player=1)\n",
    "\n",
    "    def find_next_states(self, state: OXState) -> Iterable[OXState]:\n",
    "        size = self.board_size\n",
    "        current_player = state.current_player\n",
    "        next_player = (state.current_player%2)+1\n",
    "        state.current_player = next_player\n",
    "        for r in range(size):\n",
    "            for c in range(size):\n",
    "                if state.board[r][c] == 0:\n",
    "                    state.board[r][c] = current_player\n",
    "                    yield state\n",
    "                    state.board[r][c] = 0\n",
    "        state.current_player = current_player\n",
    "\n",
    "    def find_mirror_states(self, state: OXState) -> Iterable[OXState]:\n",
    "        size = self.board_size\n",
    "\n",
    "        def rotate_90(bd: list[list[int]]) -> list[list[int]]:\n",
    "            # b'[r][c] = b[size-1-c][r]\n",
    "            rotated = [[0]*size for _ in range(size)]\n",
    "            for r in range(size):\n",
    "                for c in range(size):\n",
    "                    rotated[r][c] = bd[size - 1 - c][r]\n",
    "            return rotated\n",
    "\n",
    "        def flip_horizontal(bd: list[list[int]]) -> list[list[int]]:\n",
    "            # flip each row horizontally\n",
    "            flipped = [row[::-1] for row in bd]\n",
    "            return flipped\n",
    "\n",
    "        current = state\n",
    "        for _ in range(4):\n",
    "            current = rotate_90(current)\n",
    "            yield current\n",
    "\n",
    "        current = flip_horizontal(current)\n",
    "\n",
    "        # Rotate the flipped versions\n",
    "        for _ in range(4):\n",
    "            current = rotate_90(current)\n",
    "            yield current\n",
    "\n",
    "    def evaluate_state(self, state: OXState) -> int | None:\n",
    "        # For 3x3 board: \n",
    "        # return 1 if X(=2) wins, -1 if O(=1) wins, 0 if draw, else None\n",
    "        bd = state.board\n",
    "        size = self.board_size\n",
    "\n",
    "        # Check rows\n",
    "        for r in range(size):\n",
    "            if bd[r][0] == bd[r][1] == bd[r][2] != 0:\n",
    "                return 1 if bd[r][0] == 2 else -1\n",
    "\n",
    "        # Check columns\n",
    "        for c in range(size):\n",
    "            if bd[0][c] == bd[1][c] == bd[2][c] != 0:\n",
    "                return 1 if bd[0][c] == 2 else -1\n",
    "\n",
    "        # Check diagonals\n",
    "        if bd[0][0] == bd[1][1] == bd[2][2] != 0:\n",
    "            return 1 if bd[0][0] == 2 else -1\n",
    "        if bd[0][2] == bd[1][1] == bd[2][0] != 0:\n",
    "            return 1 if bd[0][2] == 2 else -1\n",
    "\n",
    "        # Check draw\n",
    "        # If no empty cell (0) found => draw\n",
    "        if all(bd[r][c] != 0 for r in range(size) for c in range(size)):\n",
    "            return 0\n",
    "\n",
    "        # Not finished yet\n",
    "        return None\n"
   ]
  },
  {
   "cell_type": "code",
   "execution_count": 18,
   "metadata": {},
   "outputs": [],
   "source": [
    "oxgame = OXGame()\n",
    "solver = Solver()\n",
    "result = solver.solve(oxgame)"
   ]
  },
  {
   "cell_type": "code",
   "execution_count": 19,
   "metadata": {},
   "outputs": [
    {
     "data": {
      "text/plain": [
       "(0, 9)"
      ]
     },
     "execution_count": 19,
     "metadata": {},
     "output_type": "execute_result"
    }
   ],
   "source": [
    "result.state_to_params(oxgame.init_state)"
   ]
  },
  {
   "cell_type": "code",
   "execution_count": 20,
   "metadata": {},
   "outputs": [
    {
     "data": {
      "text/plain": [
       "'result.sgg_time=0.06373977661132812, result.ra_time=0.0009500980377197266'"
      ]
     },
     "execution_count": 20,
     "metadata": {},
     "output_type": "execute_result"
    }
   ],
   "source": [
    "f\"{result.sgg_time=}, {result.ra_time=}\""
   ]
  }
 ],
 "metadata": {
  "kernelspec": {
   "display_name": "game-analyzer-cm5Z8wYg",
   "language": "python",
   "name": "python3"
  },
  "language_info": {
   "codemirror_mode": {
    "name": "ipython",
    "version": 3
   },
   "file_extension": ".py",
   "mimetype": "text/x-python",
   "name": "python",
   "nbconvert_exporter": "python",
   "pygments_lexer": "ipython3",
   "version": "3.11.7"
  }
 },
 "nbformat": 4,
 "nbformat_minor": 2
}
