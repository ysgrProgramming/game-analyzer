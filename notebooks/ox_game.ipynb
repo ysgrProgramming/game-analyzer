{
 "cells": [
  {
   "cell_type": "markdown",
   "metadata": {},
   "source": [
    "# OXゲーム"
   ]
  },
  {
   "cell_type": "markdown",
   "metadata": {},
   "source": [
    "## 問題定義"
   ]
  },
  {
   "cell_type": "code",
   "execution_count": 16,
   "metadata": {},
   "outputs": [],
   "source": [
    "# Use English for comments\n",
    "from dataclasses import dataclass\n",
    "from typing import Iterable, Optional\n",
    "from game_analyzer import State, Game, Solver\n",
    "\n",
    "\n",
    "@dataclass\n",
    "class OXState(State):\n",
    "    # 0 = empty, 1 = O, 2 = X\n",
    "    board: list[list[int]]\n",
    "\n",
    "    def flip_board(self) -> 'OXState':\n",
    "        # Flip 1 <-> 2, keep 0 as is\n",
    "        # This treats the opponent's board as if it were my own turn\n",
    "        new_board = [\n",
    "            [2 if cell == 1 else 1 if cell == 2 else 0 for cell in row]\n",
    "            for row in self.board\n",
    "        ]\n",
    "        return OXState(board=new_board)\n",
    "\n",
    "\n",
    "class OXGame(Game):\n",
    "    def __init__(self):\n",
    "        # 3x3 board as default\n",
    "        self.init_state = OXState(board=[\n",
    "            [0, 0, 0],\n",
    "            [0, 0, 0],\n",
    "            [0, 0, 0]\n",
    "        ])\n",
    "\n",
    "    def find_next_states(self, state: OXState) -> Iterable[OXState]:\n",
    "        # Generate next states by placing \"2\" (my piece) on any empty cell (0)\n",
    "        # Then flip the board to represent the opponent's turn as my turn perspective\n",
    "        states = []\n",
    "        size = len(state.board)\n",
    "        for r in range(size):\n",
    "            for c in range(size):\n",
    "                if state.board[r][c] == 0:\n",
    "                    new_board = [row[:] for row in state.board]  # copy\n",
    "                    new_board[r][c] = 2\n",
    "                    # After placing my piece, flip board => opponent's turn is seen as my turn\n",
    "                    flipped = OXState(board=new_board).flip_board()\n",
    "                    states.append(flipped)\n",
    "        return states\n",
    "\n",
    "    def find_mirror_states(self, state: OXState) -> Iterable[OXState]:\n",
    "        # For a 3x3 board, we can generate rotations and flips as symmetric positions\n",
    "        size = len(state.board)\n",
    "\n",
    "        # Convert list[list[int]] -> tuple[tuple[int]]\n",
    "        def to_tuple(bd: list[list[int]]) -> tuple[tuple[int]]:\n",
    "            return tuple(tuple(row) for row in bd)\n",
    "\n",
    "        # Convert tuple[tuple[int]] -> list[list[int]]\n",
    "        def to_list(bd: tuple[tuple[int]]) -> list[list[int]]:\n",
    "            return [list(row) for row in bd]\n",
    "\n",
    "        def rotate_90(bd: list[list[int]]) -> list[list[int]]:\n",
    "            # b'[r][c] = b[size-1-c][r]\n",
    "            rotated = [[0]*size for _ in range(size)]\n",
    "            for r in range(size):\n",
    "                for c in range(size):\n",
    "                    rotated[r][c] = bd[size - 1 - c][r]\n",
    "            return rotated\n",
    "\n",
    "        def flip_horizontal(bd: list[list[int]]) -> list[list[int]]:\n",
    "            # flip each row horizontally\n",
    "            flipped = [row[::-1] for row in bd]\n",
    "            return flipped\n",
    "\n",
    "        original = to_tuple(state.board)\n",
    "        transformations = set()\n",
    "        transformations.add(original)\n",
    "\n",
    "        # Generate transformations\n",
    "        current = to_list(original)\n",
    "        for _ in range(3):\n",
    "            current = rotate_90(current)\n",
    "            transformations.add(to_tuple(current))\n",
    "\n",
    "        flipped = flip_horizontal(to_list(original))\n",
    "        transformations.add(to_tuple(flipped))\n",
    "\n",
    "        # Rotate the flipped versions\n",
    "        for _ in range(3):\n",
    "            flipped = rotate_90(flipped)\n",
    "            transformations.add(to_tuple(flipped))\n",
    "\n",
    "        # Build OXState objects\n",
    "        mirror_states = []\n",
    "        for tbd in transformations:\n",
    "            mirror_states.append(\n",
    "                OXState(board=to_list(tbd))\n",
    "            )\n",
    "        return mirror_states\n",
    "\n",
    "    def evaluate_state(self, state: OXState) -> Optional[int]:\n",
    "        # For 3x3 board: \n",
    "        # return 1 if X(=2) wins, -1 if O(=1) wins, 0 if draw, else None\n",
    "        bd = state.board\n",
    "        size = len(bd)\n",
    "\n",
    "        # Check rows\n",
    "        for r in range(size):\n",
    "            if bd[r][0] == bd[r][1] == bd[r][2] != 0:\n",
    "                return 1 if bd[r][0] == 2 else -1\n",
    "\n",
    "        # Check columns\n",
    "        for c in range(size):\n",
    "            if bd[0][c] == bd[1][c] == bd[2][c] != 0:\n",
    "                return 1 if bd[0][c] == 2 else -1\n",
    "\n",
    "        # Check diagonals\n",
    "        if bd[0][0] == bd[1][1] == bd[2][2] != 0:\n",
    "            return 1 if bd[0][0] == 2 else -1\n",
    "        if bd[0][2] == bd[1][1] == bd[2][0] != 0:\n",
    "            return 1 if bd[0][2] == 2 else -1\n",
    "\n",
    "        # Check draw\n",
    "        # If no empty cell (0) found => draw\n",
    "        if all(bd[r][c] != 0 for r in range(size) for c in range(size)):\n",
    "            return 0\n",
    "\n",
    "        # Not finished yet\n",
    "        return None\n"
   ]
  },
  {
   "cell_type": "code",
   "execution_count": 18,
   "metadata": {},
   "outputs": [],
   "source": [
    "oxgame = OXGame()\n",
    "solver = Solver()\n",
    "result = solver.solve(oxgame)"
   ]
  },
  {
   "cell_type": "code",
   "execution_count": 19,
   "metadata": {},
   "outputs": [
    {
     "data": {
      "text/plain": [
       "(0, 9)"
      ]
     },
     "execution_count": 19,
     "metadata": {},
     "output_type": "execute_result"
    }
   ],
   "source": [
    "result.state_to_params(oxgame.init_state)"
   ]
  },
  {
   "cell_type": "code",
   "execution_count": 20,
   "metadata": {},
   "outputs": [
    {
     "data": {
      "text/plain": [
       "'result.sgg_time=0.06373977661132812, result.ra_time=0.0009500980377197266'"
      ]
     },
     "execution_count": 20,
     "metadata": {},
     "output_type": "execute_result"
    }
   ],
   "source": [
    "f\"{result.sgg_time=}, {result.ra_time=}\""
   ]
  }
 ],
 "metadata": {
  "kernelspec": {
   "display_name": "game-analyzer-cm5Z8wYg",
   "language": "python",
   "name": "python3"
  },
  "language_info": {
   "codemirror_mode": {
    "name": "ipython",
    "version": 3
   },
   "file_extension": ".py",
   "mimetype": "text/x-python",
   "name": "python",
   "nbconvert_exporter": "python",
   "pygments_lexer": "ipython3",
   "version": "3.11.7"
  }
 },
 "nbformat": 4,
 "nbformat_minor": 2
}
