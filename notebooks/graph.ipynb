{
 "cells": [
  {
   "cell_type": "markdown",
   "metadata": {},
   "source": [
    "# Graph\n",
    "\n",
    "## 問題定義"
   ]
  },
  {
   "cell_type": "code",
   "execution_count": 1,
   "metadata": {},
   "outputs": [],
   "source": [
    "from dataclasses import dataclass\n",
    "from typing import Literal\n",
    "\n",
    "from game_analyzer import Game\n",
    "from game_analyzer import Solver\n",
    "from game_analyzer import State\n",
    "\n",
    "\n",
    "@dataclass(slots=True)\n",
    "class GraphState(State):\n",
    "    position: int\n",
    "    confirm: bool\n",
    "    turn: Literal[0, 1]\n",
    "\n",
    "class Graph(Game):\n",
    "    def __init__(self, point_list, edge_list):\n",
    "        self.point_list = point_list\n",
    "        self.graph = [[] for _ in range(len(point_list))]\n",
    "        for u, v in edge_list:\n",
    "            self.graph[u-1].append(v-1)\n",
    "        self.init_state = GraphState(position=0, confirm=False, turn=0)\n",
    "\n",
    "    def find_next_states(self, state):\n",
    "        for node in self.graph[state.position]:\n",
    "            yield GraphState(position=node, confirm=False, turn=1-state.turn)\n",
    "        yield GraphState(position=state.position, confirm=True, turn=1-state.turn)\n",
    "\n",
    "    def find_mirror_states(self, state):\n",
    "        yield state\n",
    "\n",
    "    def evaluate_state(self, state):\n",
    "        if state.confirm:\n",
    "            point = self.point_list[state.position]\n",
    "            if state.turn == 0:\n",
    "                return point\n",
    "            return -point\n",
    "        return None"
   ]
  },
  {
   "cell_type": "markdown",
   "metadata": {},
   "source": [
    "## 求解"
   ]
  },
  {
   "cell_type": "code",
   "execution_count": 2,
   "metadata": {},
   "outputs": [],
   "source": [
    "graph = Graph(point_list=[1, 3, 2], edge_list=[(1, 2), (2, 3), (3, 1)])\n",
    "solver = Solver()\n",
    "result = solver.solve(graph)"
   ]
  },
  {
   "cell_type": "markdown",
   "metadata": {},
   "source": [
    "## 結果"
   ]
  },
  {
   "cell_type": "code",
   "execution_count": 3,
   "metadata": {},
   "outputs": [
    {
     "data": {
      "text/plain": [
       "(2, 3)"
      ]
     },
     "execution_count": 3,
     "metadata": {},
     "output_type": "execute_result"
    }
   ],
   "source": [
    "result.state_to_params(graph.init_state)"
   ]
  },
  {
   "cell_type": "code",
   "execution_count": 4,
   "metadata": {},
   "outputs": [
    {
     "data": {
      "text/plain": [
       "'result.sgg_time=9.989738464355469e-05s, result.ra_time=2.8133392333984375e-05s'"
      ]
     },
     "execution_count": 4,
     "metadata": {},
     "output_type": "execute_result"
    }
   ],
   "source": [
    "f\"{result.sgg_time=}s, {result.ra_time=}s\""
   ]
  }
 ],
 "metadata": {
  "kernelspec": {
   "display_name": ".venv",
   "language": "python",
   "name": "python3"
  },
  "language_info": {
   "codemirror_mode": {
    "name": "ipython",
    "version": 3
   },
   "file_extension": ".py",
   "mimetype": "text/x-python",
   "name": "python",
   "nbconvert_exporter": "python",
   "pygments_lexer": "ipython3",
   "version": "3.11.7"
  }
 },
 "nbformat": 4,
 "nbformat_minor": 4
}
