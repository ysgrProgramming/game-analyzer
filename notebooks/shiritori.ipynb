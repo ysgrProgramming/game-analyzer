{
 "cells": [
  {
   "cell_type": "markdown",
   "metadata": {},
   "source": [
    "# しりとり"
   ]
  },
  {
   "cell_type": "code",
   "execution_count": 2,
   "metadata": {},
   "outputs": [],
   "source": [
    "from game_analyzer import State, Game, Solver\n",
    "from dataclasses import dataclass\n",
    "\n",
    "\n",
    "@dataclass\n",
    "class ShiritoriState(State):\n",
    "    selected: int\n",
    "    last: int\n",
    "\n",
    "\n",
    "class Shiritori(Game):\n",
    "    def __init__(self, words):\n",
    "        self.words = words\n",
    "        self.init_state = ShiritoriState(selected=0, last=-1)\n",
    "\n",
    "    def find_next_states(self, state):\n",
    "        if state.last == -1:\n",
    "            for i in range(len(self.words)):\n",
    "                yield ShiritoriState(selected=1<<i, last=i)\n",
    "        else:\n",
    "            for i in range(len(self.words)):\n",
    "                if self.words[state.last][-1] == self.words[i][0]:\n",
    "                    yield ShiritoriState(selected=state.selected + (1<<i), last=i)\n",
    "\n",
    "    def find_mirror_states(self, state):\n",
    "        yield state\n",
    "\n",
    "    def evaluate_state(self, state):\n",
    "        for i in range(len(self.words)):\n",
    "            if self.words[state.last][-1] == self.words[i][0]:\n",
    "                return None\n",
    "        return -1\n",
    "        "
   ]
  },
  {
   "cell_type": "code",
   "execution_count": null,
   "metadata": {},
   "outputs": [],
   "source": [
    "shiritori = Shiritori([\"enum\", \"float\", \"if\", \"modint\", \"takahashi\", \"template\"])\n",
    "solver = Solver()\n",
    "solver.solve(shiritori)"
   ]
  },
  {
   "cell_type": "code",
   "execution_count": null,
   "metadata": {},
   "outputs": [],
   "source": []
  }
 ],
 "metadata": {
  "kernelspec": {
   "display_name": "Python 3 (ipykernel)",
   "language": "python",
   "name": "python3"
  },
  "language_info": {
   "codemirror_mode": {
    "name": "ipython",
    "version": 3
   },
   "file_extension": ".py",
   "mimetype": "text/x-python",
   "name": "python",
   "nbconvert_exporter": "python",
   "pygments_lexer": "ipython3",
   "version": "3.10.11"
  }
 },
 "nbformat": 4,
 "nbformat_minor": 4
}
