{
 "cells": [
  {
   "cell_type": "markdown",
   "metadata": {},
   "source": [
    "# しりとり\n",
    "\n",
    "## 問題定義"
   ]
  },
  {
   "cell_type": "code",
   "execution_count": 1,
   "metadata": {},
   "outputs": [],
   "source": [
    "from dataclasses import dataclass\n",
    "\n",
    "from game_analyzer import Game, Solver, State\n",
    "\n",
    "\n",
    "@dataclass\n",
    "class ShiritoriState(State):\n",
    "    last: int\n",
    "\n",
    "\n",
    "class Shiritori(Game):\n",
    "    def __init__(self, words):\n",
    "        self.words = words\n",
    "        self.default_eval = 1\n",
    "        self.init_state = ShiritoriState(last=-1)\n",
    "\n",
    "    def find_next_states(self, state):\n",
    "        if state.last == -1:\n",
    "            for i in range(len(self.words)):\n",
    "                state.last = i\n",
    "                yield state\n",
    "            state.last = -1\n",
    "        else:\n",
    "            buf = state.last\n",
    "            for i in range(len(self.words)):\n",
    "                if self.words[state.last][-3:] == self.words[i][:3]:\n",
    "                    state.last = i\n",
    "                    yield state\n",
    "            state.last = buf\n",
    "\n",
    "    def find_mirror_states(self, state):\n",
    "        yield state\n",
    "\n",
    "    def evaluate_state(self, state):\n",
    "        return None"
   ]
  },
  {
   "cell_type": "markdown",
   "metadata": {},
   "source": [
    "## 求解"
   ]
  },
  {
   "cell_type": "code",
   "execution_count": 2,
   "metadata": {},
   "outputs": [],
   "source": [
    "shiritori = Shiritori(words=[\"abcd\", \"bcda\", \"ada\"])\n",
    "solver = Solver()\n",
    "result = solver.solve(shiritori)"
   ]
  },
  {
   "cell_type": "markdown",
   "metadata": {},
   "source": [
    "## 結果"
   ]
  },
  {
   "cell_type": "code",
   "execution_count": 3,
   "metadata": {},
   "outputs": [
    {
     "data": {
      "text/plain": [
       "(1, 1)"
      ]
     },
     "execution_count": 3,
     "metadata": {},
     "output_type": "execute_result"
    }
   ],
   "source": [
    "result.state_to_params(shiritori.init_state)"
   ]
  },
  {
   "cell_type": "code",
   "execution_count": 4,
   "metadata": {},
   "outputs": [
    {
     "data": {
      "text/plain": [
       "'result.sgg_time=6.29425048828125e-05, result.ra_time=1.4066696166992188e-05'"
      ]
     },
     "execution_count": 4,
     "metadata": {},
     "output_type": "execute_result"
    }
   ],
   "source": [
    "f\"{result.sgg_time=}, {result.ra_time=}\""
   ]
  }
 ],
 "metadata": {
  "kernelspec": {
   "display_name": ".venv",
   "language": "python",
   "name": "python3"
  },
  "language_info": {
   "codemirror_mode": {
    "name": "ipython",
    "version": 3
   },
   "file_extension": ".py",
   "mimetype": "text/x-python",
   "name": "python",
   "nbconvert_exporter": "python",
   "pygments_lexer": "ipython3",
   "version": "3.11.7"
  }
 },
 "nbformat": 4,
 "nbformat_minor": 4
}
